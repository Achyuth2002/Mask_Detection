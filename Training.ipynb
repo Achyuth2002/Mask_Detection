{
 "cells": [
  {
   "cell_type": "code",
   "execution_count": 7,
   "metadata": {},
   "outputs": [],
   "source": [
    "import numpy as np\n",
    "\n",
    "data=np.load('data.npy')\n",
    "target=np.load('target.npy')\n",
    "\n",
    "#loading the save numpy arrays in the previous code"
   ]
  },
  {
   "cell_type": "code",
   "execution_count": 8,
   "metadata": {},
   "outputs": [],
   "source": [
    "from keras.models import Sequential\n",
    "from keras.layers import Dense,Activation,Flatten,Dropout\n",
    "from keras.layers import Conv2D,MaxPooling2D\n",
    "from keras.callbacks import ModelCheckpoint\n",
    "\n",
    "model=Sequential()\n",
    "\n",
    "model.add(Conv2D(200,(3,3),input_shape=data.shape[1:]))\n",
    "model.add(Activation('relu'))\n",
    "model.add(MaxPooling2D(pool_size=(2,2)))\n",
    "#The first CNN layer followed by Relu and MaxPooling layers\n",
    "\n",
    "model.add(Conv2D(100,(3,3)))\n",
    "model.add(Activation('relu'))\n",
    "model.add(MaxPooling2D(pool_size=(2,2)))\n",
    "#The second convolution layer followed by Relu and MaxPooling layers\n",
    "\n",
    "model.add(Flatten())\n",
    "model.add(Dropout(0.5))\n",
    "#Flatten layer to stack the output convolutions from second convolution layer\n",
    "model.add(Dense(50,activation='relu'))\n",
    "#Dense layer of 64 neurons\n",
    "model.add(Dense(2,activation='softmax'))\n",
    "#The Final layer with two outputs for two categories\n",
    "\n",
    "model.compile(loss='categorical_crossentropy',optimizer='adam',metrics=['accuracy'])"
   ]
  },
  {
   "cell_type": "code",
   "execution_count": 9,
   "metadata": {},
   "outputs": [],
   "source": [
    "from sklearn.model_selection import train_test_split\n",
    "\n",
    "\n",
    "train_data,test_data,train_target,test_target=train_test_split(data,target,test_size=0.1)"
   ]
  },
  {
   "cell_type": "code",
   "execution_count": 10,
   "metadata": {},
   "outputs": [
    {
     "name": "stdout",
     "output_type": "stream",
     "text": [
      "Epoch 1/10\n",
      "33/33 [==============================] - ETA: 0s - loss: 0.6878 - accuracy: 0.5427INFO:tensorflow:Assets written to: model-001.model\\assets\n",
      "33/33 [==============================] - 42s 1s/step - loss: 0.6878 - accuracy: 0.5427 - val_loss: 0.5848 - val_accuracy: 0.6856\n",
      "Epoch 2/10\n",
      "33/33 [==============================] - ETA: 0s - loss: 0.5600 - accuracy: 0.7173INFO:tensorflow:Assets written to: model-002.model\\assets\n",
      "33/33 [==============================] - 39s 1s/step - loss: 0.5600 - accuracy: 0.7173 - val_loss: 0.3906 - val_accuracy: 0.8561\n",
      "Epoch 3/10\n",
      "33/33 [==============================] - ETA: 0s - loss: 0.3467 - accuracy: 0.8444INFO:tensorflow:Assets written to: model-003.model\\assets\n",
      "33/33 [==============================] - 39s 1s/step - loss: 0.3467 - accuracy: 0.8444 - val_loss: 0.3003 - val_accuracy: 0.8712\n",
      "Epoch 4/10\n",
      "33/33 [==============================] - ETA: 0s - loss: 0.2285 - accuracy: 0.9175INFO:tensorflow:Assets written to: model-004.model\\assets\n",
      "33/33 [==============================] - 39s 1s/step - loss: 0.2285 - accuracy: 0.9175 - val_loss: 0.2354 - val_accuracy: 0.8977\n",
      "Epoch 5/10\n",
      "33/33 [==============================] - ETA: 0s - loss: 0.1623 - accuracy: 0.9421INFO:tensorflow:Assets written to: model-005.model\\assets\n",
      "33/33 [==============================] - 38s 1s/step - loss: 0.1623 - accuracy: 0.9421 - val_loss: 0.2058 - val_accuracy: 0.9129\n",
      "Epoch 6/10\n",
      "33/33 [==============================] - ETA: 0s - loss: 0.1137 - accuracy: 0.9620INFO:tensorflow:Assets written to: model-006.model\\assets\n",
      "33/33 [==============================] - 39s 1s/step - loss: 0.1137 - accuracy: 0.9620 - val_loss: 0.2002 - val_accuracy: 0.9280\n",
      "Epoch 7/10\n",
      "33/33 [==============================] - 39s 1s/step - loss: 0.0947 - accuracy: 0.9715 - val_loss: 0.2840 - val_accuracy: 0.9091\n",
      "Epoch 8/10\n",
      "33/33 [==============================] - 38s 1s/step - loss: 0.0805 - accuracy: 0.9706 - val_loss: 0.2024 - val_accuracy: 0.9356\n",
      "Epoch 9/10\n",
      "33/33 [==============================] - 46s 1s/step - loss: 0.0566 - accuracy: 0.9810 - val_loss: 0.2685 - val_accuracy: 0.9129\n",
      "Epoch 10/10\n",
      "33/33 [==============================] - 48s 1s/step - loss: 0.0499 - accuracy: 0.9801 - val_loss: 0.2624 - val_accuracy: 0.9129\n"
     ]
    }
   ],
   "source": [
    "checkpoint = ModelCheckpoint('model-{epoch:03d}.model',monitor='val_loss',verbose=0,save_best_only=True,mode='auto')\n",
    "history=model.fit(train_data,train_target,epochs=10,callbacks=[checkpoint],validation_split=0.2)"
   ]
  },
  {
   "cell_type": "code",
   "execution_count": 11,
   "metadata": {},
   "outputs": [
    {
     "name": "stdout",
     "output_type": "stream",
     "text": [
      "5/5 [==============================] - 1s 239ms/step - loss: 0.2447 - accuracy: 0.9252\n",
      "[0.24472402036190033, 0.9251700639724731]\n"
     ]
    }
   ],
   "source": [
    "print(model.evaluate(test_data,test_target))\n"
   ]
  }
 ],
 "metadata": {
  "kernelspec": {
   "display_name": "Python 3 (ipykernel)",
   "language": "python",
   "name": "python3"
  },
  "language_info": {
   "codemirror_mode": {
    "name": "ipython",
    "version": 3
   },
   "file_extension": ".py",
   "mimetype": "text/x-python",
   "name": "python",
   "nbconvert_exporter": "python",
   "pygments_lexer": "ipython3",
   "version": "3.9.7"
  }
 },
 "nbformat": 4,
 "nbformat_minor": 4
}
